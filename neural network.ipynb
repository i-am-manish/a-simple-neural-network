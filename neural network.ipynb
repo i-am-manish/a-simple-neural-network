{
 "cells": [
  {
   "cell_type": "code",
   "execution_count": 26,
   "metadata": {},
   "outputs": [
    {
     "name": "stdout",
     "output_type": "stream",
     "text": [
      "0.4964100319027255\n"
     ]
    }
   ],
   "source": [
    "import numpy as np\n",
    "\n",
    "def sig(x,deriv=False):             #sigmoid activation\n",
    "    if (deriv==True):\n",
    "        return x*(1-x)\n",
    "    return 1/(1+np.exp(-x))\n",
    "X=np.array([[0,0,1],\n",
    "            [0,1,1],\n",
    "            [1,0,1],\n",
    "            [1,1,1]])\n",
    "Y=np.array([[0],\n",
    "            [1],\n",
    "            [1],\n",
    "            [0]])\n",
    "np.random.seed(1)  #good practice since it moves as given order\n",
    "#weights\n",
    "syn0=2*np.random.random((3,4)) - 1\n",
    "syn1=2*np.random.random((4,1)) - 1\n",
    "\n",
    "for j in range(10000):\n",
    "    l0=X\n",
    "    l1=sig(np.dot(l0,syn0))\n",
    "    l2=sig(np.dot(l1,syn1))\n",
    "l2_err=Y-l2\n",
    "#for BACKPROPAGATION error,I need delta\n",
    "l2_delta=l2_err*sig(l2,deriv=True)\n",
    "l1_err=l2_delta.dot(syn1.T)\n",
    "l1_delta=l1_err*sig(l1,deriv=True)\n",
    "#update weights\n",
    "syn1 += l1.T.dot(l2_delta)\n",
    "syn0 += l0.T.dot(l1_delta)\n",
    "print (str(np.mean(np.abs(l2_err))))"
   ]
  },
  {
   "cell_type": "markdown",
   "metadata": {},
   "source": [
    "[ 0.44064899]\n",
    "[ 0.9993333]]\n",
    "[0.99993704]"
   ]
  },
  {
   "cell_type": "code",
   "execution_count": null,
   "metadata": {},
   "outputs": [],
   "source": []
  }
 ],
 "metadata": {
  "kernelspec": {
   "display_name": "Python 3",
   "language": "python",
   "name": "python3"
  },
  "language_info": {
   "codemirror_mode": {
    "name": "ipython",
    "version": 3
   },
   "file_extension": ".py",
   "mimetype": "text/x-python",
   "name": "python",
   "nbconvert_exporter": "python",
   "pygments_lexer": "ipython3",
   "version": "3.6.4"
  }
 },
 "nbformat": 4,
 "nbformat_minor": 2
}
